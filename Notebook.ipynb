{
 "cells": [
  {
   "cell_type": "code",
   "execution_count": 2,
   "id": "2f1cea31",
   "metadata": {},
   "outputs": [],
   "source": [
    "import tensorflow as tf\n",
    "from keras.preprocessing.image import ImageDataGenerator"
   ]
  },
  {
   "cell_type": "code",
   "execution_count": 3,
   "id": "895cd98c",
   "metadata": {},
   "outputs": [
    {
     "name": "stdout",
     "output_type": "stream",
     "text": [
      "Found 10000 images belonging to 2 classes.\n"
     ]
    }
   ],
   "source": [
    "train_datagen = ImageDataGenerator(rescale = 1./255,\n",
    "                                   shear_range = 0.2,\n",
    "                                   zoom_range = 0.2,\n",
    "                                   horizontal_flip = True)\n",
    "training_set = train_datagen.flow_from_directory('Face Mask Dataset/Train',\n",
    "                                                 target_size = (64, 64),\n",
    "                                                 batch_size = 32,\n",
    "                                                 class_mode = 'binary')"
   ]
  },
  {
   "cell_type": "code",
   "execution_count": 5,
   "id": "11d10225",
   "metadata": {},
   "outputs": [
    {
     "name": "stdout",
     "output_type": "stream",
     "text": [
      "Found 992 images belonging to 2 classes.\n"
     ]
    }
   ],
   "source": [
    "test_datagen = ImageDataGenerator(rescale = 1./255)\n",
    "test_set = test_datagen.flow_from_directory('Face Mask Dataset/Test',\n",
    "                                            target_size = (64, 64),\n",
    "                                            batch_size = 32,\n",
    "                                            class_mode = 'binary')"
   ]
  },
  {
   "cell_type": "code",
   "execution_count": 52,
   "id": "a6ea9848",
   "metadata": {},
   "outputs": [],
   "source": [
    "cnn = tf.keras.models.Sequential()\n",
    "cnn.add(tf.keras.layers.Conv2D(filters=32, kernel_size=3, activation='relu', input_shape=[64, 64, 3]))\n",
    "cnn.add(tf.keras.layers.MaxPool2D(pool_size=2, strides=2))\n",
    "cnn.add(tf.keras.layers.Flatten())\n",
    "cnn.add(tf.keras.layers.Dense(units=128, activation='relu'))\n",
    "cnn.add(tf.keras.layers.Dense(units=1, activation='sigmoid'))"
   ]
  },
  {
   "cell_type": "code",
   "execution_count": 51,
   "id": "44fe3a00",
   "metadata": {},
   "outputs": [],
   "source": [
    "from tensorflow.keras.callbacks import EarlyStopping"
   ]
  },
  {
   "cell_type": "code",
   "execution_count": 53,
   "id": "3826163b",
   "metadata": {},
   "outputs": [],
   "source": [
    "early_stop = EarlyStopping(monitor='val_loss',mode='min',verbose=1,patience = 25)"
   ]
  },
  {
   "cell_type": "code",
   "execution_count": 55,
   "id": "3b3f976a",
   "metadata": {},
   "outputs": [],
   "source": [
    "cnn.compile(optimizer = 'adam', loss = 'binary_crossentropy', metrics = ['accuracy'])"
   ]
  },
  {
   "cell_type": "code",
   "execution_count": 56,
   "id": "c84e88f8",
   "metadata": {},
   "outputs": [
    {
     "name": "stdout",
     "output_type": "stream",
     "text": [
      "Epoch 1/200\n",
      "313/313 [==============================] - 38s 119ms/step - loss: 0.1899 - accuracy: 0.9333 - val_loss: 0.0701 - val_accuracy: 0.9758\n",
      "Epoch 2/200\n",
      "313/313 [==============================] - 28s 89ms/step - loss: 0.0564 - accuracy: 0.9792 - val_loss: 0.0528 - val_accuracy: 0.9778\n",
      "Epoch 3/200\n",
      "313/313 [==============================] - 27s 87ms/step - loss: 0.0432 - accuracy: 0.9848 - val_loss: 0.0707 - val_accuracy: 0.9778\n",
      "Epoch 4/200\n",
      "313/313 [==============================] - 27s 87ms/step - loss: 0.0420 - accuracy: 0.9850 - val_loss: 0.0438 - val_accuracy: 0.9819\n",
      "Epoch 5/200\n",
      "313/313 [==============================] - 27s 87ms/step - loss: 0.0356 - accuracy: 0.9872 - val_loss: 0.0636 - val_accuracy: 0.9758\n",
      "Epoch 6/200\n",
      "313/313 [==============================] - 28s 88ms/step - loss: 0.0309 - accuracy: 0.9892 - val_loss: 0.0346 - val_accuracy: 0.9879\n",
      "Epoch 7/200\n",
      "313/313 [==============================] - 31s 97ms/step - loss: 0.0302 - accuracy: 0.9892 - val_loss: 0.0561 - val_accuracy: 0.9829\n",
      "Epoch 8/200\n",
      "313/313 [==============================] - 31s 98ms/step - loss: 0.0304 - accuracy: 0.9891 - val_loss: 0.0445 - val_accuracy: 0.9849\n",
      "Epoch 9/200\n",
      "313/313 [==============================] - 31s 98ms/step - loss: 0.0281 - accuracy: 0.9907 - val_loss: 0.0333 - val_accuracy: 0.9879\n",
      "Epoch 10/200\n",
      "313/313 [==============================] - 31s 98ms/step - loss: 0.0251 - accuracy: 0.9904 - val_loss: 0.0423 - val_accuracy: 0.9859\n",
      "Epoch 11/200\n",
      "313/313 [==============================] - 30s 97ms/step - loss: 0.0239 - accuracy: 0.9919 - val_loss: 0.0584 - val_accuracy: 0.9758\n",
      "Epoch 12/200\n",
      "313/313 [==============================] - 30s 97ms/step - loss: 0.0232 - accuracy: 0.9913 - val_loss: 0.0414 - val_accuracy: 0.9808\n",
      "Epoch 13/200\n",
      "313/313 [==============================] - 31s 98ms/step - loss: 0.0207 - accuracy: 0.9925 - val_loss: 0.0407 - val_accuracy: 0.9899\n",
      "Epoch 14/200\n",
      "313/313 [==============================] - 30s 97ms/step - loss: 0.0205 - accuracy: 0.9926 - val_loss: 0.0331 - val_accuracy: 0.9899\n",
      "Epoch 15/200\n",
      "313/313 [==============================] - 30s 97ms/step - loss: 0.0186 - accuracy: 0.9937 - val_loss: 0.0407 - val_accuracy: 0.9839\n",
      "Epoch 16/200\n",
      "313/313 [==============================] - 30s 97ms/step - loss: 0.0191 - accuracy: 0.9926 - val_loss: 0.0308 - val_accuracy: 0.9869\n",
      "Epoch 17/200\n",
      "313/313 [==============================] - 30s 97ms/step - loss: 0.0151 - accuracy: 0.9943 - val_loss: 0.0663 - val_accuracy: 0.9778\n",
      "Epoch 18/200\n",
      "313/313 [==============================] - 31s 97ms/step - loss: 0.0207 - accuracy: 0.9923 - val_loss: 0.0210 - val_accuracy: 0.9929\n",
      "Epoch 19/200\n",
      "313/313 [==============================] - 31s 98ms/step - loss: 0.0166 - accuracy: 0.9936 - val_loss: 0.0279 - val_accuracy: 0.9899\n",
      "Epoch 20/200\n",
      "313/313 [==============================] - 31s 97ms/step - loss: 0.0178 - accuracy: 0.9931 - val_loss: 0.0462 - val_accuracy: 0.9808\n",
      "Epoch 21/200\n",
      "313/313 [==============================] - 31s 98ms/step - loss: 0.0133 - accuracy: 0.9947 - val_loss: 0.0245 - val_accuracy: 0.9909\n",
      "Epoch 22/200\n",
      "313/313 [==============================] - 31s 98ms/step - loss: 0.0155 - accuracy: 0.9945 - val_loss: 0.0216 - val_accuracy: 0.9919\n",
      "Epoch 23/200\n",
      "313/313 [==============================] - 32s 103ms/step - loss: 0.0075 - accuracy: 0.9971 - val_loss: 0.0317 - val_accuracy: 0.9919\n",
      "Epoch 24/200\n",
      "313/313 [==============================] - 30s 96ms/step - loss: 0.0092 - accuracy: 0.9968 - val_loss: 0.0194 - val_accuracy: 0.9950\n",
      "Epoch 25/200\n",
      "313/313 [==============================] - 30s 97ms/step - loss: 0.0105 - accuracy: 0.9956 - val_loss: 0.0135 - val_accuracy: 0.9960\n",
      "Epoch 26/200\n",
      "313/313 [==============================] - 30s 96ms/step - loss: 0.0073 - accuracy: 0.9977 - val_loss: 0.0329 - val_accuracy: 0.9909\n",
      "Epoch 27/200\n",
      "313/313 [==============================] - 32s 104ms/step - loss: 0.0081 - accuracy: 0.9968 - val_loss: 0.0370 - val_accuracy: 0.9909\n",
      "Epoch 28/200\n",
      "313/313 [==============================] - 32s 104ms/step - loss: 0.0140 - accuracy: 0.9948 - val_loss: 0.0496 - val_accuracy: 0.9879\n",
      "Epoch 29/200\n",
      "313/313 [==============================] - 30s 96ms/step - loss: 0.0071 - accuracy: 0.9971 - val_loss: 0.0085 - val_accuracy: 0.9970\n",
      "Epoch 30/200\n",
      "313/313 [==============================] - 30s 96ms/step - loss: 0.0081 - accuracy: 0.9977 - val_loss: 0.0746 - val_accuracy: 0.9829\n",
      "Epoch 31/200\n",
      "313/313 [==============================] - 30s 96ms/step - loss: 0.0089 - accuracy: 0.9971 - val_loss: 0.0220 - val_accuracy: 0.9929\n",
      "Epoch 32/200\n",
      "313/313 [==============================] - 30s 97ms/step - loss: 0.0150 - accuracy: 0.9948 - val_loss: 0.0260 - val_accuracy: 0.9950\n",
      "Epoch 33/200\n",
      "313/313 [==============================] - 30s 96ms/step - loss: 0.0050 - accuracy: 0.9982 - val_loss: 0.0344 - val_accuracy: 0.9950\n",
      "Epoch 34/200\n",
      "313/313 [==============================] - 30s 97ms/step - loss: 0.0100 - accuracy: 0.9964 - val_loss: 0.0192 - val_accuracy: 0.9929\n",
      "Epoch 35/200\n",
      "313/313 [==============================] - 30s 97ms/step - loss: 0.0103 - accuracy: 0.9963 - val_loss: 0.0282 - val_accuracy: 0.9909\n",
      "Epoch 36/200\n",
      "313/313 [==============================] - 31s 98ms/step - loss: 0.0066 - accuracy: 0.9973 - val_loss: 0.0274 - val_accuracy: 0.9919\n",
      "Epoch 37/200\n",
      "313/313 [==============================] - 30s 97ms/step - loss: 0.0066 - accuracy: 0.9980 - val_loss: 0.0460 - val_accuracy: 0.9929\n",
      "Epoch 38/200\n",
      "313/313 [==============================] - 30s 97ms/step - loss: 0.0042 - accuracy: 0.9988 - val_loss: 0.0388 - val_accuracy: 0.9940\n",
      "Epoch 39/200\n",
      "313/313 [==============================] - 30s 96ms/step - loss: 0.0057 - accuracy: 0.9981 - val_loss: 0.0176 - val_accuracy: 0.9940\n",
      "Epoch 40/200\n",
      "313/313 [==============================] - 31s 98ms/step - loss: 0.0085 - accuracy: 0.9970 - val_loss: 0.0246 - val_accuracy: 0.9929\n",
      "Epoch 41/200\n",
      "313/313 [==============================] - 30s 96ms/step - loss: 0.0042 - accuracy: 0.9980 - val_loss: 0.0426 - val_accuracy: 0.9950\n",
      "Epoch 42/200\n",
      "313/313 [==============================] - 30s 96ms/step - loss: 0.0058 - accuracy: 0.9979 - val_loss: 0.0896 - val_accuracy: 0.9798\n",
      "Epoch 43/200\n",
      "313/313 [==============================] - 30s 96ms/step - loss: 0.0060 - accuracy: 0.9981 - val_loss: 0.0367 - val_accuracy: 0.9950\n",
      "Epoch 44/200\n",
      "313/313 [==============================] - 30s 97ms/step - loss: 0.0028 - accuracy: 0.9990 - val_loss: 0.0469 - val_accuracy: 0.9960\n",
      "Epoch 45/200\n",
      "313/313 [==============================] - 30s 97ms/step - loss: 0.0036 - accuracy: 0.9990 - val_loss: 0.0384 - val_accuracy: 0.9919\n",
      "Epoch 46/200\n",
      "313/313 [==============================] - 30s 96ms/step - loss: 0.0059 - accuracy: 0.9980 - val_loss: 0.0240 - val_accuracy: 0.9950\n",
      "Epoch 47/200\n",
      "313/313 [==============================] - 30s 96ms/step - loss: 0.0065 - accuracy: 0.9975 - val_loss: 0.0385 - val_accuracy: 0.9919\n",
      "Epoch 48/200\n",
      "313/313 [==============================] - 30s 97ms/step - loss: 0.0068 - accuracy: 0.9979 - val_loss: 0.0251 - val_accuracy: 0.9929\n",
      "Epoch 49/200\n",
      "313/313 [==============================] - 30s 97ms/step - loss: 0.0024 - accuracy: 0.9993 - val_loss: 0.0238 - val_accuracy: 0.9960\n",
      "Epoch 50/200\n",
      "313/313 [==============================] - 30s 97ms/step - loss: 0.0014 - accuracy: 0.9995 - val_loss: 0.0126 - val_accuracy: 0.9970\n",
      "Epoch 51/200\n",
      "313/313 [==============================] - 30s 97ms/step - loss: 0.0070 - accuracy: 0.9980 - val_loss: 0.0048 - val_accuracy: 0.9990\n",
      "Epoch 52/200\n",
      "313/313 [==============================] - 30s 97ms/step - loss: 0.0053 - accuracy: 0.9979 - val_loss: 0.0032 - val_accuracy: 0.9980\n",
      "Epoch 53/200\n",
      "313/313 [==============================] - 30s 96ms/step - loss: 0.0035 - accuracy: 0.9988 - val_loss: 0.0727 - val_accuracy: 0.9889\n",
      "Epoch 54/200\n",
      "313/313 [==============================] - 30s 97ms/step - loss: 0.0098 - accuracy: 0.9968 - val_loss: 0.0346 - val_accuracy: 0.9919\n",
      "Epoch 55/200\n",
      "313/313 [==============================] - 31s 99ms/step - loss: 0.0074 - accuracy: 0.9972 - val_loss: 0.0283 - val_accuracy: 0.9950\n",
      "Epoch 56/200\n",
      "313/313 [==============================] - 30s 96ms/step - loss: 0.0041 - accuracy: 0.9986 - val_loss: 0.0103 - val_accuracy: 0.9950\n",
      "Epoch 57/200\n"
     ]
    },
    {
     "name": "stdout",
     "output_type": "stream",
     "text": [
      "313/313 [==============================] - 30s 96ms/step - loss: 0.0022 - accuracy: 0.9992 - val_loss: 0.0413 - val_accuracy: 0.9940\n",
      "Epoch 58/200\n",
      "313/313 [==============================] - 30s 97ms/step - loss: 0.0041 - accuracy: 0.9986 - val_loss: 0.0558 - val_accuracy: 0.9919\n",
      "Epoch 59/200\n",
      "313/313 [==============================] - 30s 97ms/step - loss: 0.0024 - accuracy: 0.9990 - val_loss: 0.0187 - val_accuracy: 0.9960\n",
      "Epoch 60/200\n",
      "313/313 [==============================] - 30s 96ms/step - loss: 0.0039 - accuracy: 0.9985 - val_loss: 0.0530 - val_accuracy: 0.9889\n",
      "Epoch 61/200\n",
      "313/313 [==============================] - 30s 97ms/step - loss: 0.0039 - accuracy: 0.9986 - val_loss: 0.0236 - val_accuracy: 0.9970\n",
      "Epoch 62/200\n",
      "313/313 [==============================] - 31s 98ms/step - loss: 0.0080 - accuracy: 0.9977 - val_loss: 0.1011 - val_accuracy: 0.9768\n",
      "Epoch 63/200\n",
      "313/313 [==============================] - 30s 96ms/step - loss: 0.0104 - accuracy: 0.9965 - val_loss: 0.0258 - val_accuracy: 0.9950\n",
      "Epoch 64/200\n",
      "313/313 [==============================] - 30s 96ms/step - loss: 0.0030 - accuracy: 0.9993 - val_loss: 0.0677 - val_accuracy: 0.9919\n",
      "Epoch 65/200\n",
      "313/313 [==============================] - 30s 97ms/step - loss: 0.0035 - accuracy: 0.9990 - val_loss: 0.0420 - val_accuracy: 0.9950\n",
      "Epoch 66/200\n",
      "313/313 [==============================] - 33s 105ms/step - loss: 0.0015 - accuracy: 0.9994 - val_loss: 0.0247 - val_accuracy: 0.9960\n",
      "Epoch 67/200\n",
      "313/313 [==============================] - 32s 101ms/step - loss: 0.0047 - accuracy: 0.9982 - val_loss: 0.0163 - val_accuracy: 0.9950\n",
      "Epoch 68/200\n",
      "313/313 [==============================] - 34s 108ms/step - loss: 0.0063 - accuracy: 0.9985 - val_loss: 0.0092 - val_accuracy: 0.9970\n",
      "Epoch 69/200\n",
      "313/313 [==============================] - 33s 106ms/step - loss: 0.0053 - accuracy: 0.9982 - val_loss: 0.0269 - val_accuracy: 0.9940\n",
      "Epoch 70/200\n",
      "313/313 [==============================] - 30s 96ms/step - loss: 0.0029 - accuracy: 0.9988 - val_loss: 0.0656 - val_accuracy: 0.9889\n",
      "Epoch 71/200\n",
      "313/313 [==============================] - 30s 97ms/step - loss: 0.0050 - accuracy: 0.9985 - val_loss: 0.0344 - val_accuracy: 0.9960\n",
      "Epoch 72/200\n",
      "313/313 [==============================] - 29s 94ms/step - loss: 0.0070 - accuracy: 0.9978 - val_loss: 0.0247 - val_accuracy: 0.9950\n",
      "Epoch 73/200\n",
      "313/313 [==============================] - 30s 94ms/step - loss: 0.0044 - accuracy: 0.9988 - val_loss: 0.0335 - val_accuracy: 0.9950\n",
      "Epoch 74/200\n",
      "313/313 [==============================] - 30s 97ms/step - loss: 0.0053 - accuracy: 0.9984 - val_loss: 0.0198 - val_accuracy: 0.9940\n",
      "Epoch 75/200\n",
      "313/313 [==============================] - 31s 99ms/step - loss: 0.0021 - accuracy: 0.9990 - val_loss: 0.0234 - val_accuracy: 0.9950\n",
      "Epoch 76/200\n",
      "313/313 [==============================] - 30s 97ms/step - loss: 0.0028 - accuracy: 0.9985 - val_loss: 0.0540 - val_accuracy: 0.9940\n",
      "Epoch 77/200\n",
      "313/313 [==============================] - 30s 97ms/step - loss: 9.3849e-04 - accuracy: 0.9996 - val_loss: 0.0221 - val_accuracy: 0.9960\n",
      "Epoch 00077: early stopping\n"
     ]
    },
    {
     "data": {
      "text/plain": [
       "<keras.callbacks.History at 0x1b0eb25ddf0>"
      ]
     },
     "execution_count": 56,
     "metadata": {},
     "output_type": "execute_result"
    }
   ],
   "source": [
    "cnn.fit(x = training_set, validation_data = test_set, epochs = 200,callbacks=[early_stop])"
   ]
  },
  {
   "cell_type": "code",
   "execution_count": 58,
   "id": "caec786f",
   "metadata": {},
   "outputs": [],
   "source": [
    "import pandas as pd\n",
    "performance_df = pd.DataFrame(cnn.history.history)"
   ]
  },
  {
   "cell_type": "code",
   "execution_count": 61,
   "id": "8edf6e8c",
   "metadata": {},
   "outputs": [
    {
     "data": {
      "text/plain": [
       "<AxesSubplot:>"
      ]
     },
     "execution_count": 61,
     "metadata": {},
     "output_type": "execute_result"
    },
    {
     "data": {
      "image/png": "[encoded data removed]",
      "text/plain": [
       "<Figure size 432x288 with 1 Axes>"
      ]
     },
     "metadata": {
      "needs_background": "light"
     },
     "output_type": "display_data"
    }
   ],
   "source": [
    "import seaborn as sns\n",
    "sns.lineplot(data=performance_df[['loss','val_loss']])"
   ]
  },
  {
   "cell_type": "code",
   "execution_count": 62,
   "id": "968cecee",
   "metadata": {},
   "outputs": [],
   "source": [
    "cnn.save('cnnmodel.h5')"
   ]
  }
 ],
 "metadata": {
  "kernelspec": {
   "display_name": "Python 3 (ipykernel)",
   "language": "python",
   "name": "python3"
  },
  "language_info": {
   "codemirror_mode": {
    "name": "ipython",
    "version": 3
   },
   "file_extension": ".py",
   "mimetype": "text/x-python",
   "name": "python",
   "nbconvert_exporter": "python",
   "pygments_lexer": "ipython3",
   "version": "3.9.7"
  }
 },
 "nbformat": 4,
 "nbformat_minor": 5
}
